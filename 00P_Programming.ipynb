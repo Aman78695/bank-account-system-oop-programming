{
  "nbformat": 4,
  "nbformat_minor": 0,
  "metadata": {
    "colab": {
      "provenance": [],
      "include_colab_link": true
    },
    "kernelspec": {
      "name": "python3",
      "display_name": "Python 3"
    },
    "language_info": {
      "name": "python"
    }
  },
  "cells": [
    {
      "cell_type": "markdown",
      "metadata": {
        "id": "view-in-github",
        "colab_type": "text"
      },
      "source": [
        "<a href=\"https://colab.research.google.com/github/Aman78695/bank-account-system-oop-programming/blob/main/00P_Programming.ipynb\" target=\"_parent\"><img src=\"https://colab.research.google.com/assets/colab-badge.svg\" alt=\"Open In Colab\"/></a>"
      ]
    },
    {
      "cell_type": "markdown",
      "source": [
        "##`Q-1:` Rectangle Class\n",
        "1. Write a Rectangle class in Python language, allowing you to build a rectangle with length and width attributes.\n",
        "\n",
        "2. Create a Perimeter() method to calculate the perimeter of the rectangle and a Area() method to calculate the area of ​​the rectangle.\n",
        "\n",
        "3. Create a method display() that display the length, width, perimeter and area of an object created using an instantiation on rectangle class."
      ],
      "metadata": {
        "id": "FyUJ3PRAsPr4"
      }
    },
    {
      "cell_type": "markdown",
      "source": [
        "Eg.\n",
        "After making above classes and methods, on executing below code:-\n",
        "```\n",
        "my_rectangle = Rectangle(3 , 4)\n",
        "my_rectangle.display()\n",
        "```\n",
        "\n",
        "`Output:`\n",
        "```\n",
        "The length of rectangle is:  3\n",
        "The width of rectangle is:  4\n",
        "The perimeter of rectangle is:  14\n",
        "The area of rectangle is:  12\n",
        "```\n"
      ],
      "metadata": {
        "id": "GxUtOqJfssFK"
      }
    },
    {
      "cell_type": "code",
      "source": [
        "\n",
        "# write your code here\n",
        "\n",
        "class Rectangle():\n",
        "  \n",
        "  def __init__(self,x,y):\n",
        "    self.x=x\n",
        "    self.y=y\n",
        "    print('the length is:-',self.x)\n",
        "    print('the breadth is:-',self.y)\n",
        "    print(self.display())\n",
        "\n",
        "  def perimeter(self):\n",
        "    return 2*(self.x+self.y)\n",
        "  def area(self):\n",
        "    return self.x*self.y\n",
        "  def display(self):\n",
        "    \n",
        "    return self.perimeter(),self.area()\n",
        "    \n",
        "\n"
      ],
      "metadata": {
        "id": "92_QT-Uj6NBg"
      },
      "execution_count": null,
      "outputs": []
    },
    {
      "cell_type": "code",
      "source": [
        "c=Rectangle(6,8)"
      ],
      "metadata": {
        "colab": {
          "base_uri": "https://localhost:8080/"
        },
        "id": "k2PBMK0LtQ41",
        "outputId": "8382311a-1298-46d0-96cb-34dc4bf6a558"
      },
      "execution_count": null,
      "outputs": [
        {
          "output_type": "stream",
          "name": "stdout",
          "text": [
            "the length is:- 6\n",
            "the breadth is:- 8\n",
            "(28, 48)\n"
          ]
        }
      ]
    },
    {
      "cell_type": "code",
      "source": [
        "c.perimeter()"
      ],
      "metadata": {
        "colab": {
          "base_uri": "https://localhost:8080/"
        },
        "id": "0QPNHIo1uXOB",
        "outputId": "7c2553c5-4037-4968-b882-f3eb7e022d6b"
      },
      "execution_count": null,
      "outputs": [
        {
          "output_type": "execute_result",
          "data": {
            "text/plain": [
              "28"
            ]
          },
          "metadata": {},
          "execution_count": 30
        }
      ]
    },
    {
      "cell_type": "code",
      "source": [
        "c.area()"
      ],
      "metadata": {
        "colab": {
          "base_uri": "https://localhost:8080/"
        },
        "id": "7gWXKGPkupY0",
        "outputId": "d802b199-420c-4644-da21-0850c0ceae73"
      },
      "execution_count": null,
      "outputs": [
        {
          "output_type": "execute_result",
          "data": {
            "text/plain": [
              "48"
            ]
          },
          "metadata": {},
          "execution_count": 31
        }
      ]
    },
    {
      "cell_type": "code",
      "source": [
        "c.display()"
      ],
      "metadata": {
        "colab": {
          "base_uri": "https://localhost:8080/"
        },
        "id": "AhFVBqCQvIly",
        "outputId": "2e0c0c76-88a0-40d3-d386-c2d9e87d5366"
      },
      "execution_count": null,
      "outputs": [
        {
          "output_type": "execute_result",
          "data": {
            "text/plain": [
              "(28, 48)"
            ]
          },
          "metadata": {},
          "execution_count": 41
        }
      ]
    },
    {
      "cell_type": "markdown",
      "source": [
        "##`Q-2: Bank Class`\n",
        "\n",
        "1. Create a Python class called `BankAccount` which represents a bank account, having as attributes: `accountNumber` (numeric type), `name` (name of the account owner as string type), `balance`.\n",
        "2. Create a constructor with parameters: `accountNumber, name, balance`.\n",
        "3. Create a `Deposit()` method which manages the deposit actions.\n",
        "4. Create a `Withdrawal()` method  which manages withdrawals actions.\n",
        "5. Create an `bankFees()` method to apply the bank fees with a percentage of 5% of the balance account.\n",
        "6. Create a `display()` method to display account details.\n",
        "Give the complete code for the  BankAccount class."
      ],
      "metadata": {
        "id": "r_GxrS0Vrdom"
      }
    },
    {
      "cell_type": "code",
      "source": [],
      "metadata": {
        "id": "WR9oCXhYxsLg"
      },
      "execution_count": null,
      "outputs": []
    },
    {
      "cell_type": "markdown",
      "source": [
        "Eg.\n",
        "After making above classes and methods, on executing below code:-\n",
        "```\n",
        "newAccount = BankAccount(2178514584, \"Mandy\" , 2800)\n",
        "\n",
        "newAccount.Withdrawal(700)\n",
        "\n",
        "newAccount.Deposit(1000)\n",
        "\n",
        "newAccount.display()\n",
        "```\n",
        "\n",
        "`Output:`\n",
        "```\n",
        "Account Number :  2178514584\n",
        "Account Name :  Mandy\n",
        "Account Balance :  3100 ₹\n",
        "```"
      ],
      "metadata": {
        "id": "qvVkOUJgvTV_"
      }
    },
    {
      "cell_type": "code",
      "source": [
        "# write your code here"
      ],
      "metadata": {
        "id": "fUQOmQyA6YDR"
      },
      "execution_count": null,
      "outputs": []
    },
    {
      "cell_type": "code",
      "source": [
        "class BankAccount:\n",
        "  def __init__(self,acno,name,balance):\n",
        "    self.acno=int(input('enter ac no'))\n",
        "    self.name=input('enter name')\n",
        "    self.balance=int(input('enter balance'))\n",
        "\n",
        "  def deposit(self):\n",
        "    acountnum=int(input('enter your ac no.'))\n",
        "    if acountnum==self.acno:\n",
        "      print('welcome you can deposit your money')\n",
        "      deposited=int(input('enter the money to be deposited'))\n",
        "      print('new balance=',self.balance+deposited)\n",
        "    else:\n",
        "      print('chori karne aaya h')\n",
        "\n",
        "  def withdrawl(self):\n",
        "    acnnum=int(input('enter your ac no.'))\n",
        "    balance_acnt=int(input('enter your balance'))\n",
        "    if (acnnum==self.acno and balance_acnt==self.balance):\n",
        "      print('welcome you can withdraw money')\n",
        "      withdraw_money=int(input('enter the money to be withdrawn'))\n",
        "      if withdraw_money>self.balance:\n",
        "        print('cant withdraw no sufficient balance')\n",
        "      else:\n",
        "        print('remaning balance=',self.balance-withdraw_money)\n",
        "    else:\n",
        "      print('chal chor')\n"
      ],
      "metadata": {
        "id": "oiV3YmAAxtwe"
      },
      "execution_count": null,
      "outputs": []
    },
    {
      "cell_type": "code",
      "source": [
        "c1=BankAccount(4321,'aman',5000)"
      ],
      "metadata": {
        "colab": {
          "base_uri": "https://localhost:8080/"
        },
        "id": "jdMj0Ntp2qS_",
        "outputId": "d61dcd60-ad39-4a73-ce57-8e96a9cd4c11"
      },
      "execution_count": null,
      "outputs": [
        {
          "name": "stdout",
          "output_type": "stream",
          "text": [
            "enter ac no4321\n",
            "enter nameaman\n",
            "enter balance5000\n"
          ]
        }
      ]
    },
    {
      "cell_type": "code",
      "source": [
        "c1.deposit()"
      ],
      "metadata": {
        "colab": {
          "base_uri": "https://localhost:8080/"
        },
        "id": "_kKfaCnw3AlM",
        "outputId": "21cd3f7a-4672-44a5-a2b8-14e5190515ce"
      },
      "execution_count": null,
      "outputs": [
        {
          "output_type": "stream",
          "name": "stdout",
          "text": [
            "enter your ac no.4321\n",
            "welcome you can deposit your money\n",
            "enter the money to be deposited4000\n",
            "new balance= 8000\n"
          ]
        }
      ]
    },
    {
      "cell_type": "code",
      "source": [
        "c1.withdrawl()"
      ],
      "metadata": {
        "colab": {
          "base_uri": "https://localhost:8080/"
        },
        "id": "vuekyqpD6hk4",
        "outputId": "b478948e-8917-4378-d064-5026e1a1e6db"
      },
      "execution_count": null,
      "outputs": [
        {
          "output_type": "stream",
          "name": "stdout",
          "text": [
            "enter your ac no.4321\n",
            "enter your balance5000\n",
            "welcome you can withdraw money\n",
            "enter the money to be withdrawn6000\n",
            "cant withdraw no sufficient balance\n"
          ]
        }
      ]
    },
    {
      "cell_type": "code",
      "source": [
        "# write your code here"
      ],
      "metadata": {
        "id": "YEkPH70l6Z-o"
      },
      "execution_count": null,
      "outputs": []
    },
    {
      "cell_type": "code",
      "source": [
        "# write your code here"
      ],
      "metadata": {
        "id": "vCrUF6VU6l6w"
      },
      "execution_count": null,
      "outputs": []
    },
    {
      "cell_type": "code",
      "source": [
        "# write your code here"
      ],
      "metadata": {
        "id": "pdMFuVFnlvKL"
      },
      "execution_count": null,
      "outputs": []
    }
  ]
}